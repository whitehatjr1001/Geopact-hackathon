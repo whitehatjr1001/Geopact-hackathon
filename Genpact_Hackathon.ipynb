{
  "nbformat": 4,
  "nbformat_minor": 0,
  "metadata": {
    "colab": {
      "provenance": [],
      "authorship_tag": "ABX9TyM0XhgVeRWfiW9mVc/yxu9I",
      "include_colab_link": true
    },
    "kernelspec": {
      "name": "python3",
      "display_name": "Python 3"
    },
    "language_info": {
      "name": "python"
    }
  },
  "cells": [
    {
      "cell_type": "markdown",
      "metadata": {
        "id": "view-in-github",
        "colab_type": "text"
      },
      "source": [
        "<a href=\"https://colab.research.google.com/github/whitehatjr1001/Geopact-hackathon/blob/main/Genpact_Hackathon.ipynb\" target=\"_parent\"><img src=\"https://colab.research.google.com/assets/colab-badge.svg\" alt=\"Open In Colab\"/></a>"
      ]
    },
    {
      "cell_type": "code",
      "execution_count": 1,
      "metadata": {
        "colab": {
          "base_uri": "https://localhost:8080/"
        },
        "id": "fs1TC6Df9FQH",
        "outputId": "686f28f8-6ff4-4a78-914e-59d36dad7cb8"
      },
      "outputs": [
        {
          "output_type": "stream",
          "name": "stdout",
          "text": [
            "Mounted at /content/drive\n"
          ]
        }
      ],
      "source": [
        "from google.colab import drive\n",
        "drive.mount('/content/drive')"
      ]
    },
    {
      "cell_type": "code",
      "source": [
        "import pandas as pd\n",
        "import numpy as np"
      ],
      "metadata": {
        "id": "I-EqVmu6CLY_"
      },
      "execution_count": 2,
      "outputs": []
    },
    {
      "cell_type": "code",
      "source": [
        "indian_train =  pd.read_csv('/content/drive/MyDrive/Participants_Data_GGSH_Solution_Notebook/India_train.csv')\n",
        "indian_test = pd.read_csv('/content/drive/MyDrive/Participants_Data_GGSH_Solution_Notebook/India_test.csv')\n",
        "USA_train =pd.read_csv('/content/drive/MyDrive/Participants_Data_GGSH_Solution_Notebook/USA_train.csv')\n",
        "USA_test = pd.read_csv('/content/drive/MyDrive/Participants_Data_GGSH_Solution_Notebook/USA_test.csv')"
      ],
      "metadata": {
        "id": "xCBvKmWJCVvW"
      },
      "execution_count": 3,
      "outputs": []
    },
    {
      "cell_type": "markdown",
      "source": [
        "**INDIAN DATA**"
      ],
      "metadata": {
        "id": "Sv0acy6mDKPA"
      }
    },
    {
      "cell_type": "code",
      "source": [],
      "metadata": {
        "id": "F2XThUheDFMY"
      },
      "execution_count": null,
      "outputs": []
    }
  ]
}
